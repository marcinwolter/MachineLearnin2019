{
  "nbformat": 4,
  "nbformat_minor": 0,
  "metadata": {
    "kernelspec": {
      "display_name": "Python 2",
      "language": "python",
      "name": "python2"
    },
    "language_info": {
      "codemirror_mode": {
        "name": "ipython",
        "version": 2
      },
      "file_extension": ".py",
      "mimetype": "text/x-python",
      "name": "python",
      "nbconvert_exporter": "python",
      "pygments_lexer": "ipython2",
      "version": "2.7.11"
    },
    "colab": {
      "name": "cross_validation.ipynb",
      "provenance": [],
      "include_colab_link": true
    }
  },
  "cells": [
    {
      "cell_type": "markdown",
      "metadata": {
        "id": "view-in-github",
        "colab_type": "text"
      },
      "source": [
        "<a href=\"https://colab.research.google.com/github/marcinwolter/MachineLearnin2019/blob/master/cross_validation.ipynb\" target=\"_parent\"><img src=\"https://colab.research.google.com/assets/colab-badge.svg\" alt=\"Open In Colab\"/></a>"
      ]
    },
    {
      "cell_type": "markdown",
      "metadata": {
        "id": "1Qf0sR7SUikR",
        "colab_type": "text"
      },
      "source": [
        "# Cross-validation for parameter tuning, model selection, and feature selection\n",
        "*From the video series: [Introduction to machine learning with scikit-learn](https://github.com/justmarkham/scikit-learn-videos)*\n",
        "\n",
        "Modified by Marcin Wolter"
      ]
    },
    {
      "cell_type": "markdown",
      "metadata": {
        "id": "rYBcciSjUikb",
        "colab_type": "text"
      },
      "source": [
        "## Agenda\n",
        "\n",
        "- What is the drawback of using the **train/test split** procedure for model evaluation?\n",
        "- How does **K-fold cross-validation** overcome this limitation?\n",
        "- How can cross-validation be used for selecting **tuning parameters**, choosing between **models**, and selecting **features**?"
      ]
    },
    {
      "cell_type": "markdown",
      "metadata": {
        "id": "xNGpcOTDUikj",
        "colab_type": "text"
      },
      "source": [
        "## Review of model evaluation procedures"
      ]
    },
    {
      "cell_type": "markdown",
      "metadata": {
        "id": "cBAlkFXEUikn",
        "colab_type": "text"
      },
      "source": [
        "**Motivation:** Need a way to choose between machine learning models\n",
        "\n",
        "- Goal is to estimate likely performance of a model on **out-of-sample data**\n",
        "\n",
        "**Initial idea:** Train and test on the same data\n",
        "\n",
        "- But, maximizing **training accuracy** rewards overly complex models which **overfit** the training data\n",
        "\n",
        "**Alternative idea:** Train/test split\n",
        "\n",
        "- Split the dataset into two pieces, so that the model can be trained and tested on **different data**\n",
        "- **Testing accuracy** is a better estimate than training accuracy of out-of-sample performance\n",
        "- But, it provides a **high variance** estimate since changing which observations happen to be in the testing set can significantly change testing accuracy"
      ]
    },
    {
      "cell_type": "code",
      "metadata": {
        "id": "ECxg35pFUikr",
        "colab_type": "code",
        "colab": {
          "base_uri": "https://localhost:8080/",
          "height": 376
        },
        "outputId": "11ecb742-3ee9-4df3-8e38-b575d3d92e40"
      },
      "source": [
        "import matplotlib.pyplot as plt\n",
        "\n",
        "from sklearn.datasets import load_iris\n",
        "from sklearn.model_selection import train_test_split\n",
        "from sklearn.neighbors import KNeighborsClassifier\n",
        "from sklearn import metrics\n",
        "from sklearn.datasets import make_moons, make_circles\n",
        "from sklearn.preprocessing import StandardScaler\n",
        "\n",
        "\n",
        "\n",
        "import numpy as np"
      ],
      "execution_count": 56,
      "outputs": [
        {
          "output_type": "error",
          "ename": "ImportError",
          "evalue": "ignored",
          "traceback": [
            "\u001b[0;31m\u001b[0m",
            "\u001b[0;31mImportError\u001b[0mTraceback (most recent call last)",
            "\u001b[0;32m<ipython-input-56-337b4d5e7987>\u001b[0m in \u001b[0;36m<module>\u001b[0;34m()\u001b[0m\n\u001b[1;32m      8\u001b[0m \u001b[0;32mfrom\u001b[0m \u001b[0msklearn\u001b[0m\u001b[0;34m.\u001b[0m\u001b[0mpreprocessing\u001b[0m \u001b[0;32mimport\u001b[0m \u001b[0mStandardScaler\u001b[0m\u001b[0;34m\u001b[0m\u001b[0m\n\u001b[1;32m      9\u001b[0m \u001b[0;32mfrom\u001b[0m \u001b[0msklearn\u001b[0m\u001b[0;34m.\u001b[0m\u001b[0mmetrics\u001b[0m \u001b[0;32mimport\u001b[0m \u001b[0mauc\u001b[0m\u001b[0;34m\u001b[0m\u001b[0m\n\u001b[0;32m---> 10\u001b[0;31m \u001b[0;32mfrom\u001b[0m \u001b[0msklearn\u001b[0m\u001b[0;34m.\u001b[0m\u001b[0mmetrics\u001b[0m \u001b[0;32mimport\u001b[0m \u001b[0mplot_roc_curve\u001b[0m\u001b[0;34m\u001b[0m\u001b[0m\n\u001b[0m\u001b[1;32m     11\u001b[0m \u001b[0;34m\u001b[0m\u001b[0m\n\u001b[1;32m     12\u001b[0m \u001b[0;34m\u001b[0m\u001b[0m\n",
            "\u001b[0;31mImportError\u001b[0m: cannot import name plot_roc_curve",
            "",
            "\u001b[0;31m---------------------------------------------------------------------------\u001b[0;32m\nNOTE: If your import is failing due to a missing package, you can\nmanually install dependencies using either !pip or !apt.\n\nTo view examples of installing some common dependencies, click the\n\"Open Examples\" button below.\n\u001b[0;31m---------------------------------------------------------------------------\u001b[0m\n"
          ]
        }
      ]
    },
    {
      "cell_type": "code",
      "metadata": {
        "id": "_5rBZsklUik9",
        "colab_type": "code",
        "colab": {}
      },
      "source": [
        "# read in the iris data\n",
        "#iris = load_iris()\n",
        "\n",
        "# create X (features) and y (response)\n",
        "#X = iris.data\n",
        "#y = iris.target"
      ],
      "execution_count": 0,
      "outputs": []
    },
    {
      "cell_type": "code",
      "metadata": {
        "id": "rE8fKZNOdAx0",
        "colab_type": "code",
        "colab": {}
      },
      "source": [
        "# prepare \"moons\"/\"circles\" 2D dataset\n",
        "   \n",
        "X, y = make_moons(n_samples=500, noise=0.3, random_state=0)\n",
        "#X, y = make_circles(n_samples=500, noise=0.5, factor=0.5, random_state=1)\n",
        "X = StandardScaler().fit_transform(X)\n",
        "    "
      ],
      "execution_count": 0,
      "outputs": []
    },
    {
      "cell_type": "code",
      "metadata": {
        "id": "imOMdJyWUilI",
        "colab_type": "code",
        "outputId": "20229270-85b3-4262-8d1d-1c36e5f49d3f",
        "colab": {
          "base_uri": "https://localhost:8080/",
          "height": 34
        }
      },
      "source": [
        "# use train/test split with different random_state values\n",
        "X_train, X_test, y_train, y_test = train_test_split(X, y, random_state=4)\n",
        "\n",
        "# check classification accuracy of KNN with K=5\n",
        "knn = KNeighborsClassifier(n_neighbors=5)\n",
        "knn.fit(X_train, y_train)\n",
        "y_pred = knn.predict(X_test)\n",
        "print(metrics.accuracy_score(y_test, y_pred))"
      ],
      "execution_count": 48,
      "outputs": [
        {
          "output_type": "stream",
          "text": [
            "0.864\n"
          ],
          "name": "stdout"
        }
      ]
    },
    {
      "cell_type": "markdown",
      "metadata": {
        "id": "6VzWW_d0UilU",
        "colab_type": "text"
      },
      "source": [
        "**Question:** What if we created a bunch of train/test splits, calculated the testing accuracy for each, and averaged the results together?\n",
        "\n",
        "**Answer:** That's the essense of cross-validation!"
      ]
    },
    {
      "cell_type": "markdown",
      "metadata": {
        "id": "OP9dhSIcUilX",
        "colab_type": "text"
      },
      "source": [
        "## Steps for K-fold cross-validation"
      ]
    },
    {
      "cell_type": "markdown",
      "metadata": {
        "id": "iq8Yi32hUila",
        "colab_type": "text"
      },
      "source": [
        "1. Split the dataset into K **equal** partitions (or \"folds\").\n",
        "2. Use fold 1 as the **testing set** and the union of the other folds as the **training set**.\n",
        "3. Calculate **testing accuracy**.\n",
        "4. Repeat steps 2 and 3 K times, using a **different fold** as the testing set each time.\n",
        "5. Use the **average testing accuracy** as the estimate of out-of-sample accuracy."
      ]
    },
    {
      "cell_type": "markdown",
      "metadata": {
        "id": "iapwyE6HUile",
        "colab_type": "text"
      },
      "source": [
        "Diagram of **5-fold cross-validation:**\n",
        "\n",
        "![5-fold cross-validation](https://github.com/marcinwolter/MachineLearnin2019/blob/master/images/07_cross_validation_diagram.png?raw=1)"
      ]
    },
    {
      "cell_type": "code",
      "metadata": {
        "id": "-lF4ImXsUili",
        "colab_type": "code",
        "outputId": "01d101a1-e84d-468f-f8e7-87a08ced870a",
        "colab": {
          "base_uri": "https://localhost:8080/",
          "height": 1000
        }
      },
      "source": [
        "# simulate splitting a dataset of 25 observations into 5 folds\n",
        "from sklearn.model_selection import KFold\n",
        "kf = KFold( n_splits=5, shuffle=False)\n",
        "\n",
        "# print the contents of each training and testing set\n",
        "print('{} {:^61} {}'.format('Iteration', 'Training set observations', 'Testing set observations'))\n",
        "for iteration, data in enumerate(kf.split(X_train, y_train), start=1):\n",
        "    print('{:^9} {} {:^25}'.format(iteration, data[0], data[1]))"
      ],
      "execution_count": 49,
      "outputs": [
        {
          "output_type": "stream",
          "text": [
            "Iteration                   Training set observations                   Testing set observations\n",
            "    1     [ 75  76  77  78  79  80  81  82  83  84  85  86  87  88  89  90  91  92\n",
            "  93  94  95  96  97  98  99 100 101 102 103 104 105 106 107 108 109 110\n",
            " 111 112 113 114 115 116 117 118 119 120 121 122 123 124 125 126 127 128\n",
            " 129 130 131 132 133 134 135 136 137 138 139 140 141 142 143 144 145 146\n",
            " 147 148 149 150 151 152 153 154 155 156 157 158 159 160 161 162 163 164\n",
            " 165 166 167 168 169 170 171 172 173 174 175 176 177 178 179 180 181 182\n",
            " 183 184 185 186 187 188 189 190 191 192 193 194 195 196 197 198 199 200\n",
            " 201 202 203 204 205 206 207 208 209 210 211 212 213 214 215 216 217 218\n",
            " 219 220 221 222 223 224 225 226 227 228 229 230 231 232 233 234 235 236\n",
            " 237 238 239 240 241 242 243 244 245 246 247 248 249 250 251 252 253 254\n",
            " 255 256 257 258 259 260 261 262 263 264 265 266 267 268 269 270 271 272\n",
            " 273 274 275 276 277 278 279 280 281 282 283 284 285 286 287 288 289 290\n",
            " 291 292 293 294 295 296 297 298 299 300 301 302 303 304 305 306 307 308\n",
            " 309 310 311 312 313 314 315 316 317 318 319 320 321 322 323 324 325 326\n",
            " 327 328 329 330 331 332 333 334 335 336 337 338 339 340 341 342 343 344\n",
            " 345 346 347 348 349 350 351 352 353 354 355 356 357 358 359 360 361 362\n",
            " 363 364 365 366 367 368 369 370 371 372 373 374] [ 0  1  2  3  4  5  6  7  8  9 10 11 12 13 14 15 16 17 18 19 20 21 22 23\n",
            " 24 25 26 27 28 29 30 31 32 33 34 35 36 37 38 39 40 41 42 43 44 45 46 47\n",
            " 48 49 50 51 52 53 54 55 56 57 58 59 60 61 62 63 64 65 66 67 68 69 70 71\n",
            " 72 73 74]\n",
            "    2     [  0   1   2   3   4   5   6   7   8   9  10  11  12  13  14  15  16  17\n",
            "  18  19  20  21  22  23  24  25  26  27  28  29  30  31  32  33  34  35\n",
            "  36  37  38  39  40  41  42  43  44  45  46  47  48  49  50  51  52  53\n",
            "  54  55  56  57  58  59  60  61  62  63  64  65  66  67  68  69  70  71\n",
            "  72  73  74 150 151 152 153 154 155 156 157 158 159 160 161 162 163 164\n",
            " 165 166 167 168 169 170 171 172 173 174 175 176 177 178 179 180 181 182\n",
            " 183 184 185 186 187 188 189 190 191 192 193 194 195 196 197 198 199 200\n",
            " 201 202 203 204 205 206 207 208 209 210 211 212 213 214 215 216 217 218\n",
            " 219 220 221 222 223 224 225 226 227 228 229 230 231 232 233 234 235 236\n",
            " 237 238 239 240 241 242 243 244 245 246 247 248 249 250 251 252 253 254\n",
            " 255 256 257 258 259 260 261 262 263 264 265 266 267 268 269 270 271 272\n",
            " 273 274 275 276 277 278 279 280 281 282 283 284 285 286 287 288 289 290\n",
            " 291 292 293 294 295 296 297 298 299 300 301 302 303 304 305 306 307 308\n",
            " 309 310 311 312 313 314 315 316 317 318 319 320 321 322 323 324 325 326\n",
            " 327 328 329 330 331 332 333 334 335 336 337 338 339 340 341 342 343 344\n",
            " 345 346 347 348 349 350 351 352 353 354 355 356 357 358 359 360 361 362\n",
            " 363 364 365 366 367 368 369 370 371 372 373 374] [ 75  76  77  78  79  80  81  82  83  84  85  86  87  88  89  90  91  92\n",
            "  93  94  95  96  97  98  99 100 101 102 103 104 105 106 107 108 109 110\n",
            " 111 112 113 114 115 116 117 118 119 120 121 122 123 124 125 126 127 128\n",
            " 129 130 131 132 133 134 135 136 137 138 139 140 141 142 143 144 145 146\n",
            " 147 148 149]\n",
            "    3     [  0   1   2   3   4   5   6   7   8   9  10  11  12  13  14  15  16  17\n",
            "  18  19  20  21  22  23  24  25  26  27  28  29  30  31  32  33  34  35\n",
            "  36  37  38  39  40  41  42  43  44  45  46  47  48  49  50  51  52  53\n",
            "  54  55  56  57  58  59  60  61  62  63  64  65  66  67  68  69  70  71\n",
            "  72  73  74  75  76  77  78  79  80  81  82  83  84  85  86  87  88  89\n",
            "  90  91  92  93  94  95  96  97  98  99 100 101 102 103 104 105 106 107\n",
            " 108 109 110 111 112 113 114 115 116 117 118 119 120 121 122 123 124 125\n",
            " 126 127 128 129 130 131 132 133 134 135 136 137 138 139 140 141 142 143\n",
            " 144 145 146 147 148 149 225 226 227 228 229 230 231 232 233 234 235 236\n",
            " 237 238 239 240 241 242 243 244 245 246 247 248 249 250 251 252 253 254\n",
            " 255 256 257 258 259 260 261 262 263 264 265 266 267 268 269 270 271 272\n",
            " 273 274 275 276 277 278 279 280 281 282 283 284 285 286 287 288 289 290\n",
            " 291 292 293 294 295 296 297 298 299 300 301 302 303 304 305 306 307 308\n",
            " 309 310 311 312 313 314 315 316 317 318 319 320 321 322 323 324 325 326\n",
            " 327 328 329 330 331 332 333 334 335 336 337 338 339 340 341 342 343 344\n",
            " 345 346 347 348 349 350 351 352 353 354 355 356 357 358 359 360 361 362\n",
            " 363 364 365 366 367 368 369 370 371 372 373 374] [150 151 152 153 154 155 156 157 158 159 160 161 162 163 164 165 166 167\n",
            " 168 169 170 171 172 173 174 175 176 177 178 179 180 181 182 183 184 185\n",
            " 186 187 188 189 190 191 192 193 194 195 196 197 198 199 200 201 202 203\n",
            " 204 205 206 207 208 209 210 211 212 213 214 215 216 217 218 219 220 221\n",
            " 222 223 224]\n",
            "    4     [  0   1   2   3   4   5   6   7   8   9  10  11  12  13  14  15  16  17\n",
            "  18  19  20  21  22  23  24  25  26  27  28  29  30  31  32  33  34  35\n",
            "  36  37  38  39  40  41  42  43  44  45  46  47  48  49  50  51  52  53\n",
            "  54  55  56  57  58  59  60  61  62  63  64  65  66  67  68  69  70  71\n",
            "  72  73  74  75  76  77  78  79  80  81  82  83  84  85  86  87  88  89\n",
            "  90  91  92  93  94  95  96  97  98  99 100 101 102 103 104 105 106 107\n",
            " 108 109 110 111 112 113 114 115 116 117 118 119 120 121 122 123 124 125\n",
            " 126 127 128 129 130 131 132 133 134 135 136 137 138 139 140 141 142 143\n",
            " 144 145 146 147 148 149 150 151 152 153 154 155 156 157 158 159 160 161\n",
            " 162 163 164 165 166 167 168 169 170 171 172 173 174 175 176 177 178 179\n",
            " 180 181 182 183 184 185 186 187 188 189 190 191 192 193 194 195 196 197\n",
            " 198 199 200 201 202 203 204 205 206 207 208 209 210 211 212 213 214 215\n",
            " 216 217 218 219 220 221 222 223 224 300 301 302 303 304 305 306 307 308\n",
            " 309 310 311 312 313 314 315 316 317 318 319 320 321 322 323 324 325 326\n",
            " 327 328 329 330 331 332 333 334 335 336 337 338 339 340 341 342 343 344\n",
            " 345 346 347 348 349 350 351 352 353 354 355 356 357 358 359 360 361 362\n",
            " 363 364 365 366 367 368 369 370 371 372 373 374] [225 226 227 228 229 230 231 232 233 234 235 236 237 238 239 240 241 242\n",
            " 243 244 245 246 247 248 249 250 251 252 253 254 255 256 257 258 259 260\n",
            " 261 262 263 264 265 266 267 268 269 270 271 272 273 274 275 276 277 278\n",
            " 279 280 281 282 283 284 285 286 287 288 289 290 291 292 293 294 295 296\n",
            " 297 298 299]\n",
            "    5     [  0   1   2   3   4   5   6   7   8   9  10  11  12  13  14  15  16  17\n",
            "  18  19  20  21  22  23  24  25  26  27  28  29  30  31  32  33  34  35\n",
            "  36  37  38  39  40  41  42  43  44  45  46  47  48  49  50  51  52  53\n",
            "  54  55  56  57  58  59  60  61  62  63  64  65  66  67  68  69  70  71\n",
            "  72  73  74  75  76  77  78  79  80  81  82  83  84  85  86  87  88  89\n",
            "  90  91  92  93  94  95  96  97  98  99 100 101 102 103 104 105 106 107\n",
            " 108 109 110 111 112 113 114 115 116 117 118 119 120 121 122 123 124 125\n",
            " 126 127 128 129 130 131 132 133 134 135 136 137 138 139 140 141 142 143\n",
            " 144 145 146 147 148 149 150 151 152 153 154 155 156 157 158 159 160 161\n",
            " 162 163 164 165 166 167 168 169 170 171 172 173 174 175 176 177 178 179\n",
            " 180 181 182 183 184 185 186 187 188 189 190 191 192 193 194 195 196 197\n",
            " 198 199 200 201 202 203 204 205 206 207 208 209 210 211 212 213 214 215\n",
            " 216 217 218 219 220 221 222 223 224 225 226 227 228 229 230 231 232 233\n",
            " 234 235 236 237 238 239 240 241 242 243 244 245 246 247 248 249 250 251\n",
            " 252 253 254 255 256 257 258 259 260 261 262 263 264 265 266 267 268 269\n",
            " 270 271 272 273 274 275 276 277 278 279 280 281 282 283 284 285 286 287\n",
            " 288 289 290 291 292 293 294 295 296 297 298 299] [300 301 302 303 304 305 306 307 308 309 310 311 312 313 314 315 316 317\n",
            " 318 319 320 321 322 323 324 325 326 327 328 329 330 331 332 333 334 335\n",
            " 336 337 338 339 340 341 342 343 344 345 346 347 348 349 350 351 352 353\n",
            " 354 355 356 357 358 359 360 361 362 363 364 365 366 367 368 369 370 371\n",
            " 372 373 374]\n"
          ],
          "name": "stdout"
        }
      ]
    },
    {
      "cell_type": "markdown",
      "metadata": {
        "id": "rNamPoO8Uilq",
        "colab_type": "text"
      },
      "source": [
        "- Dataset contains **25 observations** (numbered 0 through 24)\n",
        "- 5-fold cross-validation, thus it runs for **5 iterations**\n",
        "- For each iteration, every observation is either in the training set or the testing set, **but not both**\n",
        "- Every observation is in the testing set **exactly once**"
      ]
    },
    {
      "cell_type": "markdown",
      "metadata": {
        "id": "X3kxIezzUils",
        "colab_type": "text"
      },
      "source": [
        "## Comparing cross-validation to train/test split"
      ]
    },
    {
      "cell_type": "markdown",
      "metadata": {
        "id": "BeTWy5w8Uilu",
        "colab_type": "text"
      },
      "source": [
        "Advantages of **cross-validation:**\n",
        "\n",
        "- More accurate estimate of out-of-sample accuracy\n",
        "- More \"efficient\" use of data (every observation is used for both training and testing)\n",
        "\n",
        "Advantages of **train/test split:**\n",
        "\n",
        "- Runs K times faster than K-fold cross-validation\n",
        "- Simpler to examine the detailed results of the testing process"
      ]
    },
    {
      "cell_type": "markdown",
      "metadata": {
        "id": "MjooxpUcUily",
        "colab_type": "text"
      },
      "source": [
        "## Cross-validation recommendations"
      ]
    },
    {
      "cell_type": "markdown",
      "metadata": {
        "id": "RGHcl03JUil4",
        "colab_type": "text"
      },
      "source": [
        "1. K can be any number, but **K=10** is generally recommended\n",
        "2. For classification problems, **stratified sampling** is recommended for creating the folds\n",
        "    - Each response class should be represented with equal proportions in each of the K folds\n",
        "    - scikit-learn's `cross_val_score` function does this by default"
      ]
    },
    {
      "cell_type": "markdown",
      "metadata": {
        "id": "5yuE3tyRUil6",
        "colab_type": "text"
      },
      "source": [
        "## Cross-validation example: parameter tuning"
      ]
    },
    {
      "cell_type": "markdown",
      "metadata": {
        "id": "-kr_8ycrUil9",
        "colab_type": "text"
      },
      "source": [
        "**Goal:** Select the best tuning parameters (aka \"hyperparameters\") for KNN on the iris dataset"
      ]
    },
    {
      "cell_type": "code",
      "metadata": {
        "id": "CNGYHdDZUimA",
        "colab_type": "code",
        "colab": {}
      },
      "source": [
        "from sklearn.model_selection import cross_val_score"
      ],
      "execution_count": 0,
      "outputs": []
    },
    {
      "cell_type": "code",
      "metadata": {
        "id": "3Iwesq84UimJ",
        "colab_type": "code",
        "outputId": "4dd797f0-a1c0-49b4-debe-c68e9bc0a433",
        "colab": {
          "base_uri": "https://localhost:8080/",
          "height": 34
        }
      },
      "source": [
        "# 10-fold cross-validation with K=2 for KNN (the n_neighbors parameter)\n",
        "knn = KNeighborsClassifier(n_neighbors=3)\n",
        "scores = cross_val_score(knn, X, y, cv=10, scoring='accuracy')\n",
        "print(scores)"
      ],
      "execution_count": 51,
      "outputs": [
        {
          "output_type": "stream",
          "text": [
            "[0.9  0.9  0.8  0.86 0.86 0.88 0.84 0.96 0.9  0.9 ]\n"
          ],
          "name": "stdout"
        }
      ]
    },
    {
      "cell_type": "code",
      "metadata": {
        "id": "_VckObTGUimZ",
        "colab_type": "code",
        "outputId": "886102e1-d0ac-4c3f-b103-5f19565cc7ec",
        "colab": {
          "base_uri": "https://localhost:8080/",
          "height": 34
        }
      },
      "source": [
        "# use average accuracy as an estimate of out-of-sample accuracy\n",
        "print(scores.mean())"
      ],
      "execution_count": 52,
      "outputs": [
        {
          "output_type": "stream",
          "text": [
            "0.8800000000000001\n"
          ],
          "name": "stdout"
        }
      ]
    },
    {
      "cell_type": "code",
      "metadata": {
        "id": "hHx23UZaUimi",
        "colab_type": "code",
        "outputId": "8ab39eaa-02fb-49ec-a315-ef39e94ce014",
        "colab": {
          "base_uri": "https://localhost:8080/",
          "height": 54
        }
      },
      "source": [
        "# search for an optimal value of K for KNN\n",
        "k_range = list(range(1, 101))\n",
        "k_scores = []\n",
        "for k in k_range:\n",
        "    knn = KNeighborsClassifier(n_neighbors=k)\n",
        "    scores = cross_val_score(knn, X, y, cv=10, scoring='accuracy')\n",
        "    k_scores.append(scores.mean())\n",
        "print(k_scores)"
      ],
      "execution_count": 62,
      "outputs": [
        {
          "output_type": "stream",
          "text": [
            "[0.8879999999999999, 0.852, 0.8800000000000001, 0.8780000000000001, 0.8800000000000001, 0.892, 0.8960000000000001, 0.8959999999999999, 0.9, 0.8959999999999999, 0.8979999999999999, 0.8979999999999999, 0.9, 0.892, 0.89, 0.8960000000000001, 0.8959999999999999, 0.8939999999999999, 0.898, 0.8959999999999999, 0.892, 0.892, 0.89, 0.8920000000000001, 0.8920000000000001, 0.8940000000000001, 0.8960000000000001, 0.89, 0.89, 0.8959999999999999, 0.8939999999999999, 0.89, 0.8879999999999999, 0.8879999999999999, 0.89, 0.892, 0.892, 0.89, 0.8960000000000001, 0.89, 0.8940000000000001, 0.892, 0.8960000000000001, 0.892, 0.8939999999999999, 0.89, 0.89, 0.892, 0.8960000000000001, 0.892, 0.892, 0.89, 0.8939999999999999, 0.892, 0.892, 0.892, 0.892, 0.892, 0.892, 0.8939999999999999, 0.892, 0.8939999999999999, 0.8959999999999999, 0.8939999999999999, 0.892, 0.89, 0.892, 0.892, 0.892, 0.892, 0.8899999999999999, 0.892, 0.8899999999999999, 0.892, 0.8879999999999999, 0.892, 0.8879999999999999, 0.8859999999999999, 0.8859999999999999, 0.8859999999999999, 0.8859999999999999, 0.8859999999999999, 0.884, 0.884, 0.882, 0.8859999999999999, 0.8859999999999999, 0.8859999999999999, 0.884, 0.884, 0.884, 0.882, 0.882, 0.882, 0.884, 0.884, 0.8879999999999999, 0.8859999999999999, 0.8899999999999999, 0.8859999999999999]\n"
          ],
          "name": "stdout"
        }
      ]
    },
    {
      "cell_type": "code",
      "metadata": {
        "id": "wrJA8XY4Uimv",
        "colab_type": "code",
        "outputId": "115ce2ae-2047-4b44-e64c-7cb22453af89",
        "colab": {
          "base_uri": "https://localhost:8080/",
          "height": 300
        }
      },
      "source": [
        "import matplotlib.pyplot as plt\n",
        "%matplotlib inline\n",
        "\n",
        "# plot the value of K for KNN (x-axis) versus the cross-validated accuracy (y-axis)\n",
        "plt.plot(k_range, k_scores)\n",
        "plt.xlabel('Value of K for KNN')\n",
        "plt.ylabel('Cross-Validated Accuracy')"
      ],
      "execution_count": 54,
      "outputs": [
        {
          "output_type": "execute_result",
          "data": {
            "text/plain": [
              "Text(0,0.5,'Cross-Validated Accuracy')"
            ]
          },
          "metadata": {
            "tags": []
          },
          "execution_count": 54
        },
        {
          "output_type": "display_data",
          "data": {
            "image/png": "[encoded data removed]",
            "text/plain": [
              "<Figure size 432x288 with 1 Axes>"
            ]
          },
          "metadata": {
            "tags": []
          }
        }
      ]
    },
    {
      "cell_type": "markdown",
      "metadata": {
        "id": "NNQkn_x9kvlp",
        "colab_type": "text"
      },
      "source": [
        "# **And now optimization with HYPEROPT**"
      ]
    },
    {
      "cell_type": "code",
      "metadata": {
        "id": "khr99fYGksh1",
        "colab_type": "code",
        "colab": {
          "base_uri": "https://localhost:8080/",
          "height": 69
        },
        "outputId": "dc2de9fe-1c35-4221-c26b-7826ee09ae6d"
      },
      "source": [
        "from hyperopt import fmin, tpe, hp, Trials, STATUS_OK\n",
        "\n",
        "def hyperopt_train_test(params):\n",
        "    clf = KNeighborsClassifier(**params)\n",
        "    return cross_val_score(clf, X, y, cv=10, scoring='accuracy').mean()\n",
        "\n",
        "space4knn = {\n",
        "    'n_neighbors': hp.choice('n_neighbors', range(1,101))\n",
        "}\n",
        "\n",
        "def f(params):\n",
        "    acc = hyperopt_train_test(params)\n",
        "    return {'loss': -acc, 'status': STATUS_OK}\n",
        "\n",
        "trials = Trials()\n",
        "best = fmin(f, space4knn, algo=tpe.suggest, max_evals=100, trials=trials)\n",
        "print 'best:'\n",
        "print best"
      ],
      "execution_count": 61,
      "outputs": [
        {
          "output_type": "stream",
          "text": [
            "100%|██████████| 100/100 [00:04<00:00, 22.31it/s, best loss: -0.9]\n",
            "best:\n",
            "{'n_neighbors': 12}\n"
          ],
          "name": "stdout"
        }
      ]
    }
  ]
}