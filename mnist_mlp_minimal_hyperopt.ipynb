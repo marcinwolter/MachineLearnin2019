{
  "nbformat": 4,
  "nbformat_minor": 0,
  "metadata": {
    "colab": {
      "name": "mnist_mlp_minimal_hyperopt.ipynb",
      "provenance": [],
      "collapsed_sections": [],
      "include_colab_link": true
    },
    "kernelspec": {
      "name": "python3",
      "display_name": "Python 3"
    },
    "accelerator": "GPU"
  },
  "cells": [
    {
      "cell_type": "markdown",
      "metadata": {
        "id": "view-in-github",
        "colab_type": "text"
      },
      "source": [
        "<a href=\"https://colab.research.google.com/github/marcinwolter/MachineLearnin2019/blob/master/mnist_mlp_minimal_hyperopt.ipynb\" target=\"_parent\"><img src=\"https://colab.research.google.com/assets/colab-badge.svg\" alt=\"Open In Colab\"/></a>"
      ]
    },
    {
      "cell_type": "code",
      "metadata": {
        "id": "wskFAF8Svagf",
        "colab_type": "code",
        "outputId": "14fcd7b9-0f4d-495d-9e36-1e1c5afa4ddb",
        "colab": {
          "base_uri": "https://localhost:8080/",
          "height": 255
        }
      },
      "source": [
        "'''Trains a simple deep NN on the MNIST dataset.\n",
        "\n",
        "Gets to 98.40% test accuracy after 20 epochs\n",
        "(there is *a lot* of margin for parameter tuning).\n",
        "2 seconds per epoch on a K520 GPU.\n",
        "'''\n",
        "\n",
        "from __future__ import print_function\n",
        "\n",
        "import matplotlib.pyplot as plt\n",
        "import numpy as np\n",
        "\n",
        "from hyperopt import fmin, tpe, hp, STATUS_OK, Trials\n",
        "\n",
        "import keras\n",
        "from keras.datasets import mnist\n",
        "from keras.models import Sequential\n",
        "from keras.layers import Dense, Dropout\n",
        "from keras.optimizers import RMSprop\n",
        "\n",
        "batch_size = 128\n",
        "num_classes = 10\n",
        "epochs = 10 #20\n",
        "\n",
        "# the data, split between train and test sets\n",
        "(x_train, y_train), (x_test, y_test) = mnist.load_data()\n",
        "\n",
        "x_train = x_train.reshape(60000, 784)\n",
        "x_test = x_test.reshape(10000, 784)\n",
        "x_train = x_train.astype('float32')\n",
        "x_test = x_test.astype('float32')\n",
        "x_train /= 255\n",
        "x_test /= 255\n",
        "\n",
        "# print info about a shape of arrays\n",
        "print(x_train.shape, 'train samples')\n",
        "print(x_test.shape, 'test samples')\n",
        "print(y_train.shape, 'train samples')\n",
        "print(y_test.shape, 'test samples')\n",
        "\n",
        "# convert class vectors to binary class matrices\n",
        "y_train = keras.utils.to_categorical(y_train, num_classes)\n",
        "y_test = keras.utils.to_categorical(y_test, num_classes)\n",
        "\n",
        "\n",
        "# print info about a shape of arrays\n",
        "print(x_train.shape, 'train samples after conversion')\n",
        "print(x_test.shape, 'test samples  after conversion')\n",
        "print(y_train.shape, 'train samples after conversion')\n",
        "print(y_test.shape, 'test samples  after conversion')\n",
        "\n",
        "\n"
      ],
      "execution_count": 1,
      "outputs": [
        {
          "output_type": "stream",
          "text": [
            "Using TensorFlow backend.\n"
          ],
          "name": "stderr"
        },
        {
          "output_type": "display_data",
          "data": {
            "text/html": [
              "<p style=\"color: red;\">\n",
              "The default version of TensorFlow in Colab will soon switch to TensorFlow 2.x.<br>\n",
              "We recommend you <a href=\"https://www.tensorflow.org/guide/migrate\" target=\"_blank\">upgrade</a> now \n",
              "or ensure your notebook will continue to use TensorFlow 1.x via the <code>%tensorflow_version 1.x</code> magic:\n",
              "<a href=\"https://colab.research.google.com/notebooks/tensorflow_version.ipynb\" target=\"_blank\">more info</a>.</p>\n"
            ],
            "text/plain": [
              "<IPython.core.display.HTML object>"
            ]
          },
          "metadata": {
            "tags": []
          }
        },
        {
          "output_type": "stream",
          "text": [
            "Downloading data from https://s3.amazonaws.com/img-datasets/mnist.npz\n",
            "11493376/11490434 [==============================] - 1s 0us/step\n",
            "(60000, 784) train samples\n",
            "(10000, 784) test samples\n",
            "(60000,) train samples\n",
            "(10000,) test samples\n",
            "(60000, 784) train samples after conversion\n",
            "(10000, 784) test samples  after conversion\n",
            "(60000, 10) train samples after conversion\n",
            "(10000, 10) test samples  after conversion\n"
          ],
          "name": "stdout"
        }
      ]
    },
    {
      "cell_type": "code",
      "metadata": {
        "id": "2It5qYmBvxjO",
        "colab_type": "code",
        "colab": {}
      },
      "source": [
        "space = {\n",
        "\n",
        "            'units1': hp.quniform('units1', 32,1024,32),\n",
        "#            'units2': hp.quniform('units2', 64,1024,16),\n",
        "#            'units3': hp.quniform('units3', 64,1024,16),\n",
        "\n",
        "\n",
        "            'dropout1': hp.quniform('dropout1', .00,.50,.05),\n",
        "\n",
        "        }"
      ],
      "execution_count": 0,
      "outputs": []
    },
    {
      "cell_type": "code",
      "metadata": {
        "id": "F6PkCAMabIgo",
        "colab_type": "code",
        "colab": {}
      },
      "source": [
        "def f_nn(params):   \n",
        "\n",
        "    print ('Parameters testing: ', params)\n",
        "\n",
        "    model = Sequential()\n",
        "    model.add(Dense(int(params['units1']), activation='relu', input_shape=(784,)))\n",
        "    model.add(Dropout(params['dropout1']))\n",
        "    model.add(Dense(int(params['units1']), activation='relu'))\n",
        "    model.add(Dropout(params['dropout1']))\n",
        "    model.add(Dense(int(params['units1']), activation='relu'))\n",
        "    model.add(Dropout(params['dropout1']))\n",
        "    model.add(Dense(num_classes, activation='softmax'))\n",
        "\n",
        "    #model.summary()\n",
        "\n",
        "    model.compile(loss='categorical_crossentropy',\n",
        "              optimizer=RMSprop(),\n",
        "              metrics=['accuracy'])\n",
        "\n",
        "    history = model.fit(x_train, y_train,\n",
        "                    batch_size=batch_size,\n",
        "                    epochs=epochs,\n",
        "                    verbose=0,\n",
        "                    validation_data=(x_test, y_test))\n",
        "    \n",
        "    score = model.evaluate(x_test, y_test, verbose=0)\n",
        "    print('Test accuracy:', score[1])\n",
        "\n",
        "    return {'loss': -score[1], 'status': STATUS_OK}\n",
        "\n"
      ],
      "execution_count": 0,
      "outputs": []
    },
    {
      "cell_type": "markdown",
      "metadata": {
        "id": "o9ucLGRr7MIu",
        "colab_type": "text"
      },
      "source": [
        "# **Find the best parameters:**"
      ]
    },
    {
      "cell_type": "code",
      "metadata": {
        "id": "tdVK_6lX3jUy",
        "colab_type": "code",
        "colab": {
          "base_uri": "https://localhost:8080/",
          "height": 1000
        },
        "outputId": "a197d1bf-6818-4a37-eee5-bc38f6f49e7a"
      },
      "source": [
        "\n",
        "trials = Trials()\n",
        "best = fmin(f_nn, space, algo=tpe.suggest, max_evals=50, trials=trials)\n",
        "\n"
      ],
      "execution_count": 4,
      "outputs": [
        {
          "output_type": "stream",
          "text": [
            "Parameters testing: \n",
            "{'dropout1': 0.25, 'units1': 192.0}\n",
            "  0%|          | 0/50 [00:00<?, ?it/s, best loss: ?]WARNING:tensorflow:From /usr/local/lib/python3.6/dist-packages/keras/backend/tensorflow_backend.py:66: The name tf.get_default_graph is deprecated. Please use tf.compat.v1.get_default_graph instead.\n",
            "\n",
            "WARNING:tensorflow:From /usr/local/lib/python3.6/dist-packages/keras/backend/tensorflow_backend.py:541: The name tf.placeholder is deprecated. Please use tf.compat.v1.placeholder instead.\n",
            "\n",
            "WARNING:tensorflow:From /usr/local/lib/python3.6/dist-packages/keras/backend/tensorflow_backend.py:4432: The name tf.random_uniform is deprecated. Please use tf.random.uniform instead.\n",
            "\n",
            "WARNING:tensorflow:From /usr/local/lib/python3.6/dist-packages/keras/backend/tensorflow_backend.py:148: The name tf.placeholder_with_default is deprecated. Please use tf.compat.v1.placeholder_with_default instead.\n",
            "\n",
            "WARNING:tensorflow:From /usr/local/lib/python3.6/dist-packages/keras/backend/tensorflow_backend.py:3733: calling dropout (from tensorflow.python.ops.nn_ops) with keep_prob is deprecated and will be removed in a future version.\n",
            "Instructions for updating:\n",
            "Please use `rate` instead of `keep_prob`. Rate should be set to `rate = 1 - keep_prob`.\n",
            "WARNING:tensorflow:From /usr/local/lib/python3.6/dist-packages/keras/optimizers.py:793: The name tf.train.Optimizer is deprecated. Please use tf.compat.v1.train.Optimizer instead.\n",
            "\n",
            "WARNING:tensorflow:From /usr/local/lib/python3.6/dist-packages/keras/backend/tensorflow_backend.py:3576: The name tf.log is deprecated. Please use tf.math.log instead.\n",
            "\n",
            "WARNING:tensorflow:From /usr/local/lib/python3.6/dist-packages/tensorflow_core/python/ops/math_grad.py:1424: where (from tensorflow.python.ops.array_ops) is deprecated and will be removed in a future version.\n",
            "Instructions for updating:\n",
            "Use tf.where in 2.0, which has the same broadcast rule as np.where\n",
            "WARNING:tensorflow:From /usr/local/lib/python3.6/dist-packages/keras/backend/tensorflow_backend.py:1033: The name tf.assign_add is deprecated. Please use tf.compat.v1.assign_add instead.\n",
            "\n",
            "WARNING:tensorflow:From /usr/local/lib/python3.6/dist-packages/keras/backend/tensorflow_backend.py:1020: The name tf.assign is deprecated. Please use tf.compat.v1.assign instead.\n",
            "\n",
            "WARNING:tensorflow:From /usr/local/lib/python3.6/dist-packages/keras/backend/tensorflow_backend.py:3005: The name tf.Session is deprecated. Please use tf.compat.v1.Session instead.\n",
            "\n",
            "WARNING:tensorflow:From /usr/local/lib/python3.6/dist-packages/keras/backend/tensorflow_backend.py:190: The name tf.get_default_session is deprecated. Please use tf.compat.v1.get_default_session instead.\n",
            "\n",
            "WARNING:tensorflow:From /usr/local/lib/python3.6/dist-packages/keras/backend/tensorflow_backend.py:197: The name tf.ConfigProto is deprecated. Please use tf.compat.v1.ConfigProto instead.\n",
            "\n",
            "WARNING:tensorflow:From /usr/local/lib/python3.6/dist-packages/keras/backend/tensorflow_backend.py:207: The name tf.global_variables is deprecated. Please use tf.compat.v1.global_variables instead.\n",
            "\n",
            "WARNING:tensorflow:From /usr/local/lib/python3.6/dist-packages/keras/backend/tensorflow_backend.py:216: The name tf.is_variable_initialized is deprecated. Please use tf.compat.v1.is_variable_initialized instead.\n",
            "\n",
            "WARNING:tensorflow:From /usr/local/lib/python3.6/dist-packages/keras/backend/tensorflow_backend.py:223: The name tf.variables_initializer is deprecated. Please use tf.compat.v1.variables_initializer instead.\n",
            "\n",
            "Test accuracy:\n",
            "0.9779\n",
            "Parameters testing: \n",
            "{'dropout1': 0.30000000000000004, 'units1': 384.0}\n",
            "Test accuracy:\n",
            "0.9816\n",
            "Parameters testing: \n",
            "{'dropout1': 0.45, 'units1': 32.0}\n",
            "Test accuracy:\n",
            "0.9314\n",
            "Parameters testing: \n",
            "{'dropout1': 0.05, 'units1': 704.0}\n",
            "Test accuracy:\n",
            "0.9785\n",
            "Parameters testing: \n",
            "{'dropout1': 0.2, 'units1': 896.0}\n",
            "Test accuracy:\n",
            "0.9803\n",
            "Parameters testing: \n",
            "{'dropout1': 0.25, 'units1': 640.0}\n",
            "Test accuracy:\n",
            "0.9821\n",
            "Parameters testing: \n",
            "{'dropout1': 0.2, 'units1': 320.0}\n",
            "Test accuracy:\n",
            "0.9799\n",
            "Parameters testing: \n",
            "{'dropout1': 0.30000000000000004, 'units1': 416.0}\n",
            "Test accuracy:\n",
            "0.9804\n",
            "Parameters testing: \n",
            "{'dropout1': 0.45, 'units1': 480.0}\n",
            "Test accuracy:\n",
            "0.978\n",
            "Parameters testing: \n",
            "{'dropout1': 0.30000000000000004, 'units1': 224.0}\n",
            "Test accuracy:\n",
            "0.9788\n",
            "Parameters testing: \n",
            "{'dropout1': 0.25, 'units1': 128.0}\n",
            "Test accuracy:\n",
            "0.9768\n",
            "Parameters testing: \n",
            "{'dropout1': 0.4, 'units1': 672.0}\n",
            "Test accuracy:\n",
            "0.9798\n",
            "Parameters testing: \n",
            "{'dropout1': 0.05, 'units1': 960.0}\n",
            "Test accuracy:\n",
            "0.9795\n",
            "Parameters testing: \n",
            "{'dropout1': 0.0, 'units1': 160.0}\n",
            "Test accuracy:\n",
            "0.9786\n",
            "Parameters testing: \n",
            "{'dropout1': 0.30000000000000004, 'units1': 96.0}\n",
            "Test accuracy:\n",
            "0.9744\n",
            "Parameters testing: \n",
            "{'dropout1': 0.45, 'units1': 480.0}\n",
            "Test accuracy:\n",
            "0.9799\n",
            "Parameters testing: \n",
            "{'dropout1': 0.25, 'units1': 352.0}\n",
            "Test accuracy:\n",
            "0.9818\n",
            "Parameters testing: \n",
            "{'dropout1': 0.1, 'units1': 224.0}\n",
            "Test accuracy:\n",
            "0.9821\n",
            "Parameters testing: \n",
            "{'dropout1': 0.05, 'units1': 640.0}\n",
            "Test accuracy:\n",
            "0.9799\n",
            "Parameters testing: \n",
            "{'dropout1': 0.35000000000000003, 'units1': 64.0}\n",
            "Test accuracy:\n",
            "0.9648\n",
            "Parameters testing: \n",
            "{'dropout1': 0.15000000000000002, 'units1': 800.0}\n",
            "Test accuracy:\n",
            "0.9776\n",
            "Parameters testing: \n",
            "{'dropout1': 0.15000000000000002, 'units1': 576.0}\n",
            "Test accuracy:\n",
            "0.9833\n",
            "Parameters testing: \n",
            "{'dropout1': 0.15000000000000002, 'units1': 576.0}\n",
            "Test accuracy:\n",
            "0.9808\n",
            "Parameters testing: \n",
            "{'dropout1': 0.1, 'units1': 288.0}\n",
            "Test accuracy:\n",
            "0.9824\n",
            "Parameters testing: \n",
            "{'dropout1': 0.1, 'units1': 288.0}\n",
            "Test accuracy:\n",
            "0.9819\n",
            "Parameters testing: \n",
            "{'dropout1': 0.0, 'units1': 768.0}\n",
            "Test accuracy:\n",
            "0.9769\n",
            "Parameters testing: \n",
            "{'dropout1': 0.15000000000000002, 'units1': 544.0}\n",
            "Test accuracy:\n",
            "0.9816\n",
            "Parameters testing: \n",
            "{'dropout1': 0.1, 'units1': 480.0}\n",
            "Test accuracy:\n",
            "0.9831\n",
            "Parameters testing: \n",
            "{'dropout1': 0.2, 'units1': 448.0}\n",
            "Test accuracy:\n",
            "0.9827\n",
            "Parameters testing: \n",
            "{'dropout1': 0.15000000000000002, 'units1': 576.0}\n",
            "Test accuracy:\n",
            "0.9781\n",
            "Parameters testing: \n",
            "{'dropout1': 0.1, 'units1': 832.0}\n",
            "Test accuracy:\n",
            "0.9783\n",
            "Parameters testing: \n",
            "{'dropout1': 0.0, 'units1': 384.0}\n",
            "Test accuracy:\n",
            "0.9779\n",
            "Parameters testing: \n",
            "{'dropout1': 0.2, 'units1': 736.0}\n",
            "Test accuracy:\n",
            "0.9782\n",
            "Parameters testing: \n",
            "{'dropout1': 0.05, 'units1': 992.0}\n",
            "Test accuracy:\n",
            "0.9805\n",
            "Parameters testing: \n",
            "{'dropout1': 0.05, 'units1': 864.0}\n",
            "Test accuracy:\n",
            "0.9775\n",
            "Parameters testing: \n",
            "{'dropout1': 0.2, 'units1': 608.0}\n",
            "Test accuracy:\n",
            "0.9808\n",
            "Parameters testing: \n",
            "{'dropout1': 0.35000000000000003, 'units1': 704.0}\n",
            "Test accuracy:\n",
            "0.9809\n",
            "Parameters testing: \n",
            "{'dropout1': 0.15000000000000002, 'units1': 512.0}\n",
            "Test accuracy:\n",
            "0.9802\n",
            "Parameters testing: \n",
            "{'dropout1': 0.5, 'units1': 416.0}\n",
            "Test accuracy:\n",
            "0.9789\n",
            "Parameters testing: \n",
            "{'dropout1': 0.1, 'units1': 928.0}\n",
            "Test accuracy:\n",
            "0.9789\n",
            "Parameters testing: \n",
            "{'dropout1': 0.2, 'units1': 512.0}\n",
            "Test accuracy:\n",
            "0.9782\n",
            "Parameters testing: \n",
            "{'dropout1': 0.25, 'units1': 672.0}\n",
            "Test accuracy:\n",
            "0.9812\n",
            "Parameters testing: \n",
            "{'dropout1': 0.1, 'units1': 320.0}\n",
            "Test accuracy:\n",
            "0.9824\n",
            "Parameters testing: \n",
            "{'dropout1': 0.35000000000000003, 'units1': 448.0}\n",
            "Test accuracy:\n",
            "0.9803\n",
            "Parameters testing: \n",
            "{'dropout1': 0.0, 'units1': 224.0}\n",
            "Test accuracy:\n",
            "0.9794\n",
            "Parameters testing: \n",
            "{'dropout1': 0.05, 'units1': 608.0}\n",
            "Test accuracy:\n",
            "0.9828\n",
            "Parameters testing: \n",
            "{'dropout1': 0.30000000000000004, 'units1': 384.0}\n",
            "Test accuracy:\n",
            "0.9799\n",
            "Parameters testing: \n",
            "{'dropout1': 0.2, 'units1': 736.0}\n",
            "Test accuracy:\n",
            "0.9808\n",
            "Parameters testing: \n",
            "{'dropout1': 0.15000000000000002, 'units1': 544.0}\n",
            "Test accuracy:\n",
            "0.9829\n",
            "Parameters testing: \n",
            "{'dropout1': 0.05, 'units1': 288.0}\n",
            "Test accuracy:\n",
            "0.9807\n",
            "100%|██████████| 50/50 [18:12<00:00, 24.51s/it, best loss: -0.9833]\n"
          ],
          "name": "stdout"
        }
      ]
    },
    {
      "cell_type": "code",
      "metadata": {
        "id": "_B1thTIH7ZUR",
        "colab_type": "code",
        "colab": {
          "base_uri": "https://localhost:8080/",
          "height": 52
        },
        "outputId": "018c669d-b63d-48f0-97ca-2c01d3d047fd"
      },
      "source": [
        "print('best: ', best)\n",
        "print('best accuracy: ',-trials.best_trial['result']['loss'])\n",
        "\n",
        "#from hyperopt import space_eval\n",
        "#print('best parameters: ',space_eval(space, best))"
      ],
      "execution_count": 5,
      "outputs": [
        {
          "output_type": "stream",
          "text": [
            "best:  {'dropout1': 0.15000000000000002, 'units1': 576.0}\n",
            "best accuracy:  0.9833\n"
          ],
          "name": "stdout"
        }
      ]
    },
    {
      "cell_type": "markdown",
      "metadata": {
        "id": "4MDUgcZZBk3w",
        "colab_type": "text"
      },
      "source": [
        "# **Visualization**"
      ]
    },
    {
      "cell_type": "code",
      "metadata": {
        "id": "-cUVxOOwBpPE",
        "colab_type": "code",
        "colab": {
          "base_uri": "https://localhost:8080/",
          "height": 322
        },
        "outputId": "a7d33ff5-7153-4e93-a1b9-098743d8e84b"
      },
      "source": [
        "#units vs time\n",
        "\n",
        "f, ax = plt.subplots(1)\n",
        "xs = [t['tid'] for t in trials.trials]\n",
        "ys = [t['misc']['vals']['units1'] for t in trials.trials]\n",
        "ax.set_xlim(xs[0]-10, xs[-1]+10)\n",
        "ax.scatter(xs, ys, s=20, linewidth=0.01, alpha=0.75)\n",
        "ax.set_title('$units$ $vs$ $time$ ', fontsize=18)\n",
        "ax.set_xlabel('$time$', fontsize=16)\n",
        "ax.set_ylabel('$units$', fontsize=16)"
      ],
      "execution_count": 6,
      "outputs": [
        {
          "output_type": "execute_result",
          "data": {
            "text/plain": [
              "Text(0, 0.5, '$units$')"
            ]
          },
          "metadata": {
            "tags": []
          },
          "execution_count": 6
        },
        {
          "output_type": "display_data",
          "data": {
            "image/png": "[encoded data removed]",
            "text/plain": [
              "<Figure size 432x288 with 1 Axes>"
            ]
          },
          "metadata": {
            "tags": []
          }
        }
      ]
    },
    {
      "cell_type": "code",
      "metadata": {
        "id": "BuOmTnnnELke",
        "colab_type": "code",
        "colab": {}
      },
      "source": [
        ""
      ],
      "execution_count": 0,
      "outputs": []
    },
    {
      "cell_type": "code",
      "metadata": {
        "colab_type": "code",
        "outputId": "6a56d99d-b4a2-48b7-adec-ef075752cd71",
        "id": "C6MRsovXEMLC",
        "colab": {
          "base_uri": "https://localhost:8080/",
          "height": 324
        }
      },
      "source": [
        "#units vs time\n",
        "\n",
        "f, ax = plt.subplots(1)\n",
        "xs = [t['tid'] for t in trials.trials]\n",
        "ys = [t['misc']['vals']['dropout1'] for t in trials.trials]\n",
        "ax.set_xlim(xs[0]-10, xs[-1]+10)\n",
        "ax.scatter(xs, ys, s=20, linewidth=0.01, alpha=0.75)\n",
        "ax.set_title('$dropout$ $vs$ $time$ ', fontsize=18)\n",
        "ax.set_xlabel('$time$', fontsize=16)\n",
        "ax.set_ylabel('$dropout$', fontsize=16)"
      ],
      "execution_count": 7,
      "outputs": [
        {
          "output_type": "execute_result",
          "data": {
            "text/plain": [
              "Text(0, 0.5, '$dropout$')"
            ]
          },
          "metadata": {
            "tags": []
          },
          "execution_count": 7
        },
        {
          "output_type": "display_data",
          "data": {
            "image/png": "[encoded data removed]",
            "text/plain": [
              "<Figure size 432x288 with 1 Axes>"
            ]
          },
          "metadata": {
            "tags": []
          }
        }
      ]
    },
    {
      "cell_type": "code",
      "metadata": {
        "id": "JZvxEkA5HIZh",
        "colab_type": "code",
        "colab": {
          "base_uri": "https://localhost:8080/",
          "height": 324
        },
        "outputId": "700778d0-a1e4-47a3-8135-fa916e508422"
      },
      "source": [
        "#dropout vs units\n",
        "\n",
        "f, ax = plt.subplots(1)\n",
        "xs = [t['misc']['vals']['units1'] for t in trials.trials]\n",
        "ys = [t['misc']['vals']['dropout1'] for t in trials.trials]\n",
        "#ax.set_xlim(xs[0]-10, xs[-1]+10)\n",
        "ax.scatter(xs, ys, s=20, linewidth=0.01, alpha=0.75)\n",
        "ax.set_title('$dropout$ $vs$ $units$ ', fontsize=18)\n",
        "ax.set_xlabel('$units$', fontsize=16)\n",
        "ax.set_ylabel('$dropout$', fontsize=16)"
      ],
      "execution_count": 8,
      "outputs": [
        {
          "output_type": "execute_result",
          "data": {
            "text/plain": [
              "Text(0, 0.5, '$dropout$')"
            ]
          },
          "metadata": {
            "tags": []
          },
          "execution_count": 8
        },
        {
          "output_type": "display_data",
          "data": {
            "image/png": "[encoded data removed]",
            "text/plain": [
              "<Figure size 432x288 with 1 Axes>"
            ]
          },
          "metadata": {
            "tags": []
          }
        }
      ]
    },
    {
      "cell_type": "code",
      "metadata": {
        "id": "BTcZlwEyEhFC",
        "colab_type": "code",
        "colab": {
          "base_uri": "https://localhost:8080/",
          "height": 324
        },
        "outputId": "95c49f0d-82f7-461a-d626-6c78c8f9e13d"
      },
      "source": [
        "#value vs units\n",
        "\n",
        "f, ax = plt.subplots(1)\n",
        "xs = [t['misc']['vals']['units1'] for t in trials.trials]\n",
        "ys = [-t['result']['loss'] for t in trials.trials]\n",
        "#ax.set_xlim(xs[0]-10, xs[-1]+10)\n",
        "ax.scatter(xs, ys, s=20, linewidth=0.01, alpha=0.75)\n",
        "ax.set_title('$accuracy$ $vs$ $units$ ', fontsize=18)\n",
        "ax.set_xlabel('$units$', fontsize=16)\n",
        "ax.set_ylabel('$accuracy$', fontsize=16)\n",
        "\n"
      ],
      "execution_count": 9,
      "outputs": [
        {
          "output_type": "execute_result",
          "data": {
            "text/plain": [
              "Text(0, 0.5, '$accuracy$')"
            ]
          },
          "metadata": {
            "tags": []
          },
          "execution_count": 9
        },
        {
          "output_type": "display_data",
          "data": {
            "image/png": "[encoded data removed]",
            "text/plain": [
              "<Figure size 432x288 with 1 Axes>"
            ]
          },
          "metadata": {
            "tags": []
          }
        }
      ]
    },
    {
      "cell_type": "code",
      "metadata": {
        "id": "qCk_zVkDGI7y",
        "colab_type": "code",
        "colab": {
          "base_uri": "https://localhost:8080/",
          "height": 327
        },
        "outputId": "a78c1500-81ef-4d35-db9d-9af56a9a8b3e"
      },
      "source": [
        "#value vs dropout\n",
        "\n",
        "f, ax = plt.subplots(1)\n",
        "xs = [t['misc']['vals']['dropout1'] for t in trials.trials]\n",
        "ys = [-t['result']['loss'] for t in trials.trials]\n",
        "#ax.set_xlim(xs[0]-10, xs[-1]+10)\n",
        "ax.scatter(xs, ys, s=20, linewidth=0.01, alpha=0.75)\n",
        "ax.set_title('$accuracy$ $vs$ $dropout$ ', fontsize=18)\n",
        "ax.set_xlabel('$dropout$', fontsize=16)\n",
        "ax.set_ylabel('$accuracy$', fontsize=16)\n",
        "\n"
      ],
      "execution_count": 10,
      "outputs": [
        {
          "output_type": "execute_result",
          "data": {
            "text/plain": [
              "Text(0, 0.5, '$accuracy$')"
            ]
          },
          "metadata": {
            "tags": []
          },
          "execution_count": 10
        },
        {
          "output_type": "display_data",
          "data": {
            "image/png": "[encoded data removed]",
            "text/plain": [
              "<Figure size 432x288 with 1 Axes>"
            ]
          },
          "metadata": {
            "tags": []
          }
        }
      ]
    }
  ]
}