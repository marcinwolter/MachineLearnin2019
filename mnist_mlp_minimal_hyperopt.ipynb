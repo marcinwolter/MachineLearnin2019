{
  "nbformat": 4,
  "nbformat_minor": 0,
  "metadata": {
    "colab": {
      "name": "mnist_mlp_minimal_hyperopt.ipynb",
      "provenance": [],
      "collapsed_sections": [],
      "include_colab_link": true
    },
    "kernelspec": {
      "name": "python3",
      "display_name": "Python 3"
    },
    "accelerator": "GPU"
  },
  "cells": [
    {
      "cell_type": "markdown",
      "metadata": {
        "id": "view-in-github",
        "colab_type": "text"
      },
      "source": [
        "<a href=\"https://colab.research.google.com/github/marcinwolter/MachineLearnin2019/blob/master/mnist_mlp_minimal_hyperopt.ipynb\" target=\"_parent\"><img src=\"https://colab.research.google.com/assets/colab-badge.svg\" alt=\"Open In Colab\"/></a>"
      ]
    },
    {
      "cell_type": "code",
      "metadata": {
        "id": "wskFAF8Svagf",
        "colab_type": "code",
        "outputId": "abb88f3d-caa3-4f1d-c251-beeecf32cead",
        "colab": {
          "base_uri": "https://localhost:8080/",
          "height": 156
        }
      },
      "source": [
        "'''Trains a simple deep NN on the MNIST dataset.\n",
        "\n",
        "Gets to 98.40% test accuracy after 20 epochs\n",
        "(there is *a lot* of margin for parameter tuning).\n",
        "2 seconds per epoch on a K520 GPU.\n",
        "'''\n",
        "\n",
        "from __future__ import print_function\n",
        "\n",
        "import matplotlib.pyplot as plt\n",
        "import numpy as np\n",
        "\n",
        "from hyperopt import fmin, tpe, hp, STATUS_OK, Trials\n",
        "\n",
        "import keras\n",
        "from keras.datasets import mnist\n",
        "from keras.models import Sequential\n",
        "from keras.layers import Dense, Dropout\n",
        "from keras.optimizers import RMSprop\n",
        "\n",
        "batch_size = 128\n",
        "num_classes = 10\n",
        "epochs = 10 #20\n",
        "\n",
        "# the data, split between train and test sets\n",
        "(x_train, y_train), (x_test, y_test) = mnist.load_data()\n",
        "\n",
        "x_train = x_train.reshape(60000, 784)\n",
        "x_test = x_test.reshape(10000, 784)\n",
        "x_train = x_train.astype('float32')\n",
        "x_test = x_test.astype('float32')\n",
        "x_train /= 255\n",
        "x_test /= 255\n",
        "\n",
        "# print info about a shape of arrays\n",
        "print(x_train.shape, 'train samples')\n",
        "print(x_test.shape, 'test samples')\n",
        "print(y_train.shape, 'train samples')\n",
        "print(y_test.shape, 'test samples')\n",
        "\n",
        "# convert class vectors to binary class matrices\n",
        "y_train = keras.utils.to_categorical(y_train, num_classes)\n",
        "y_test = keras.utils.to_categorical(y_test, num_classes)\n",
        "\n",
        "\n",
        "# print info about a shape of arrays\n",
        "print(x_train.shape, 'train samples after conversion')\n",
        "print(x_test.shape, 'test samples  after conversion')\n",
        "print(y_train.shape, 'train samples after conversion')\n",
        "print(y_test.shape, 'test samples  after conversion')\n",
        "\n",
        "\n"
      ],
      "execution_count": 11,
      "outputs": [
        {
          "output_type": "stream",
          "text": [
            "(60000, 784) train samples\n",
            "(10000, 784) test samples\n",
            "(60000,) train samples\n",
            "(10000,) test samples\n",
            "(60000, 784) train samples after conversion\n",
            "(10000, 784) test samples  after conversion\n",
            "(60000, 10) train samples after conversion\n",
            "(10000, 10) test samples  after conversion\n"
          ],
          "name": "stdout"
        }
      ]
    },
    {
      "cell_type": "code",
      "metadata": {
        "id": "2It5qYmBvxjO",
        "colab_type": "code",
        "colab": {}
      },
      "source": [
        "space = {\n",
        "\n",
        "            'units1': hp.quniform('units1', 32,1024,32),\n",
        "#            'units2': hp.quniform('units2', 64,1024,16),\n",
        "#            'units3': hp.quniform('units3', 64,1024,16),\n",
        "\n",
        "\n",
        "            'dropout1': hp.quniform('dropout1', .00,.50,.05),\n",
        "\n",
        "        }"
      ],
      "execution_count": 0,
      "outputs": []
    },
    {
      "cell_type": "code",
      "metadata": {
        "id": "F6PkCAMabIgo",
        "colab_type": "code",
        "colab": {}
      },
      "source": [
        "def f_nn(params):   \n",
        "\n",
        "    print ('Parameters testing: ', params)\n",
        "\n",
        "    model = Sequential()\n",
        "    model.add(Dense(int(params['units1']), activation='relu', input_shape=(784,)))\n",
        "    model.add(Dropout(params['dropout1']))\n",
        "    model.add(Dense(int(params['units1']), activation='relu'))\n",
        "    model.add(Dropout(params['dropout1']))\n",
        "    model.add(Dense(int(params['units1']), activation='relu'))\n",
        "    model.add(Dropout(params['dropout1']))\n",
        "    model.add(Dense(num_classes, activation='softmax'))\n",
        "\n",
        "    #model.summary()\n",
        "\n",
        "    model.compile(loss='categorical_crossentropy',\n",
        "              optimizer=RMSprop(),\n",
        "              metrics=['accuracy'])\n",
        "\n",
        "    history = model.fit(x_train, y_train,\n",
        "                    batch_size=batch_size,\n",
        "                    epochs=epochs,\n",
        "                    verbose=0,\n",
        "                    validation_data=(x_test, y_test))\n",
        "    \n",
        "    score = model.evaluate(x_test, y_test, verbose=0)\n",
        "    print('Test accuracy:', score[1])\n",
        "\n",
        "    return {'loss': -score[1], 'status': STATUS_OK}\n",
        "\n"
      ],
      "execution_count": 0,
      "outputs": []
    },
    {
      "cell_type": "markdown",
      "metadata": {
        "id": "o9ucLGRr7MIu",
        "colab_type": "text"
      },
      "source": [
        "# **Find the best parameters:**"
      ]
    },
    {
      "cell_type": "code",
      "metadata": {
        "id": "tdVK_6lX3jUy",
        "colab_type": "code",
        "colab": {
          "base_uri": "https://localhost:8080/",
          "height": 1000
        },
        "outputId": "6a2f2759-5989-467b-9873-0f0137d723fb"
      },
      "source": [
        "\n",
        "trials = Trials()\n",
        "best = fmin(f_nn, space, algo=tpe.suggest, max_evals=50, trials=trials)\n",
        "\n"
      ],
      "execution_count": 14,
      "outputs": [
        {
          "output_type": "stream",
          "text": [
            "Parameters testing: \n",
            "{'dropout1': 0.2, 'units1': 800.0}\n",
            "Test accuracy:\n",
            "0.9757\n",
            "Parameters testing: \n",
            "{'dropout1': 0.25, 'units1': 608.0}\n",
            "Test accuracy:\n",
            "0.98\n",
            "Parameters testing: \n",
            "{'dropout1': 0.4, 'units1': 992.0}\n",
            "Test accuracy:\n",
            "0.9793\n",
            "Parameters testing: \n",
            "{'dropout1': 0.5, 'units1': 864.0}\n",
            "Test accuracy:\n",
            "0.9774\n",
            "Parameters testing: \n",
            "{'dropout1': 0.1, 'units1': 608.0}\n",
            "Test accuracy:\n",
            "0.9849\n",
            "Parameters testing: \n",
            "{'dropout1': 0.2, 'units1': 640.0}\n",
            "Test accuracy:\n",
            "0.9809\n",
            "Parameters testing: \n",
            "{'dropout1': 0.35000000000000003, 'units1': 224.0}\n",
            "Test accuracy:\n",
            "0.9803\n",
            "Parameters testing: \n",
            "{'dropout1': 0.45, 'units1': 288.0}\n",
            "Test accuracy:\n",
            "0.9781\n",
            "Parameters testing: \n",
            "{'dropout1': 0.25, 'units1': 800.0}\n",
            "Test accuracy:\n",
            "0.9807\n",
            "Parameters testing: \n",
            "{'dropout1': 0.4, 'units1': 704.0}\n",
            "Test accuracy:\n",
            "0.9792\n",
            "Parameters testing: \n",
            "{'dropout1': 0.4, 'units1': 288.0}\n",
            "Test accuracy:\n",
            "0.9787\n",
            "Parameters testing: \n",
            "{'dropout1': 0.45, 'units1': 800.0}\n",
            "Test accuracy:\n",
            "0.9765\n",
            "Parameters testing: \n",
            "{'dropout1': 0.35000000000000003, 'units1': 128.0}\n",
            "Test accuracy:\n",
            "0.9772\n",
            "Parameters testing: \n",
            "{'dropout1': 0.30000000000000004, 'units1': 928.0}\n",
            "Test accuracy:\n",
            "0.9815\n",
            "Parameters testing: \n",
            "{'dropout1': 0.45, 'units1': 704.0}\n",
            "Test accuracy:\n",
            "0.9792\n",
            "Parameters testing: \n",
            "{'dropout1': 0.4, 'units1': 992.0}\n",
            "Test accuracy:\n",
            "0.9793\n",
            "Parameters testing: \n",
            "{'dropout1': 0.4, 'units1': 1024.0}\n",
            "Test accuracy:\n",
            "0.9797\n",
            "Parameters testing: \n",
            "{'dropout1': 0.1, 'units1': 832.0}\n",
            "Test accuracy:\n",
            "0.9798\n",
            "Parameters testing: \n",
            "{'dropout1': 0.35000000000000003, 'units1': 384.0}\n",
            "Test accuracy:\n",
            "0.9809\n",
            "Parameters testing: \n",
            "{'dropout1': 0.35000000000000003, 'units1': 384.0}\n",
            "Test accuracy:\n",
            "0.9813\n",
            "Parameters testing: \n",
            "{'dropout1': 0.1, 'units1': 480.0}\n",
            "Test accuracy:\n",
            "0.9802\n",
            "Parameters testing: \n",
            "{'dropout1': 0.15000000000000002, 'units1': 928.0}\n",
            "Test accuracy:\n",
            "0.9823\n",
            "Parameters testing: \n",
            "{'dropout1': 0.05, 'units1': 512.0}\n",
            "Test accuracy:\n",
            "0.9764\n",
            "Parameters testing: \n",
            "{'dropout1': 0.15000000000000002, 'units1': 32.0}\n",
            "Test accuracy:\n",
            "0.9559\n",
            "Parameters testing: \n",
            "{'dropout1': 0.05, 'units1': 608.0}\n",
            "Test accuracy:\n",
            "0.9801\n",
            "Parameters testing: \n",
            "{'dropout1': 0.1, 'units1': 928.0}\n",
            "Test accuracy:\n",
            "0.9763\n",
            "Parameters testing: \n",
            "{'dropout1': 0.15000000000000002, 'units1': 704.0}\n",
            "Test accuracy:\n",
            "0.9815\n",
            "Parameters testing: \n",
            "{'dropout1': 0.15000000000000002, 'units1': 416.0}\n",
            "Test accuracy:\n",
            "0.9784\n",
            "Parameters testing: \n",
            "{'dropout1': 0.2, 'units1': 896.0}\n",
            "Test accuracy:\n",
            "0.9788\n",
            "Parameters testing: \n",
            "{'dropout1': 0.05, 'units1': 736.0}\n",
            "Test accuracy:\n",
            "0.9793\n",
            "Parameters testing: \n",
            "{'dropout1': 0.2, 'units1': 576.0}\n",
            "Test accuracy:\n",
            "0.9792\n",
            "Parameters testing: \n",
            "{'dropout1': 0.25, 'units1': 480.0}\n",
            "Test accuracy:\n",
            "0.9811\n",
            "Parameters testing: \n",
            "{'dropout1': 0.1, 'units1': 640.0}\n",
            "Test accuracy:\n",
            "0.9779\n",
            "Parameters testing: \n",
            "{'dropout1': 0.15000000000000002, 'units1': 960.0}\n",
            "Test accuracy:\n",
            "0.983\n",
            "Parameters testing: \n",
            "{'dropout1': 0.2, 'units1': 1024.0}\n",
            "Test accuracy:\n",
            "0.9798\n",
            "Parameters testing: \n",
            "{'dropout1': 0.25, 'units1': 192.0}\n",
            "Test accuracy:\n",
            "0.9793\n",
            "Parameters testing: \n",
            "{'dropout1': 0.05, 'units1': 32.0}\n",
            "Test accuracy:\n",
            "0.9686\n",
            "Parameters testing: \n",
            "{'dropout1': 0.30000000000000004, 'units1': 544.0}\n",
            "Test accuracy:\n",
            "0.9815\n",
            "Parameters testing: \n",
            "{'dropout1': 0.1, 'units1': 768.0}\n",
            "Test accuracy:\n",
            "0.9808\n",
            "Parameters testing: \n",
            "{'dropout1': 0.15000000000000002, 'units1': 320.0}\n",
            "Test accuracy:\n",
            "0.9814\n",
            "Parameters testing: \n",
            "{'dropout1': 0.2, 'units1': 640.0}\n",
            "Test accuracy:\n",
            "0.9776\n",
            "Parameters testing: \n",
            "{'dropout1': 0.30000000000000004, 'units1': 864.0}\n",
            "Test accuracy:\n",
            "0.9779\n",
            "Parameters testing: \n",
            "{'dropout1': 0.05, 'units1': 128.0}\n",
            "Test accuracy:\n",
            "0.9806\n",
            "Parameters testing: \n",
            "{'dropout1': 0.25, 'units1': 960.0}\n",
            "Test accuracy:\n",
            "0.9805\n",
            "Parameters testing: \n",
            "{'dropout1': 0.1, 'units1': 864.0}\n",
            "Test accuracy:\n",
            "0.9735\n",
            "Parameters testing: \n",
            "{'dropout1': 0.5, 'units1': 768.0}\n",
            "Test accuracy:\n",
            "0.9786\n",
            "Parameters testing: \n",
            "{'dropout1': 0.15000000000000002, 'units1': 448.0}\n",
            "Test accuracy:\n",
            "0.9802\n",
            "Parameters testing: \n",
            "{'dropout1': 0.2, 'units1': 224.0}\n",
            "Test accuracy:\n",
            "0.9815\n",
            "Parameters testing: \n",
            "{'dropout1': 0.1, 'units1': 320.0}\n",
            "Test accuracy:\n",
            "0.9823\n",
            "Parameters testing: \n",
            "{'dropout1': 0.2, 'units1': 800.0}\n",
            "Test accuracy:\n",
            "0.9791\n",
            "100%|██████████| 50/50 [20:45<00:00, 27.83s/it, best loss: -0.9849]\n"
          ],
          "name": "stdout"
        }
      ]
    },
    {
      "cell_type": "code",
      "metadata": {
        "id": "_B1thTIH7ZUR",
        "colab_type": "code",
        "colab": {
          "base_uri": "https://localhost:8080/",
          "height": 52
        },
        "outputId": "87f59266-1e21-4710-8709-76bf7a272fbf"
      },
      "source": [
        "print('best: ', best)\n",
        "print('best accuracy: ',-trials.best_trial['result']['loss'])\n",
        "\n",
        "#from hyperopt import space_eval\n",
        "#print('best parameters: ',space_eval(space, best))"
      ],
      "execution_count": 15,
      "outputs": [
        {
          "output_type": "stream",
          "text": [
            "best:  {'dropout1': 0.1, 'units1': 608.0}\n",
            "best accuracy:  0.9849\n"
          ],
          "name": "stdout"
        }
      ]
    },
    {
      "cell_type": "markdown",
      "metadata": {
        "id": "4MDUgcZZBk3w",
        "colab_type": "text"
      },
      "source": [
        "# **Visualization**"
      ]
    },
    {
      "cell_type": "code",
      "metadata": {
        "id": "-cUVxOOwBpPE",
        "colab_type": "code",
        "colab": {
          "base_uri": "https://localhost:8080/",
          "height": 322
        },
        "outputId": "f097f39c-9dde-4389-f4b2-71a9e7798d07"
      },
      "source": [
        "#units vs time\n",
        "\n",
        "f, ax = plt.subplots(1)\n",
        "xs = [t['tid'] for t in trials.trials]\n",
        "ys = [t['misc']['vals']['units1'] for t in trials.trials]\n",
        "ax.set_xlim(xs[0]-10, xs[-1]+10)\n",
        "ax.scatter(xs, ys, s=20, linewidth=0.01, alpha=0.75)\n",
        "ax.set_title('$units$ $vs$ $time$ ', fontsize=18)\n",
        "ax.set_xlabel('$time$', fontsize=16)\n",
        "ax.set_ylabel('$units$', fontsize=16)"
      ],
      "execution_count": 20,
      "outputs": [
        {
          "output_type": "execute_result",
          "data": {
            "text/plain": [
              "Text(0, 0.5, '$units$')"
            ]
          },
          "metadata": {
            "tags": []
          },
          "execution_count": 20
        },
        {
          "output_type": "display_data",
          "data": {
            "image/png": "[encoded data removed]",
            "text/plain": [
              "<Figure size 432x288 with 1 Axes>"
            ]
          },
          "metadata": {
            "tags": []
          }
        }
      ]
    },
    {
      "cell_type": "code",
      "metadata": {
        "id": "BuOmTnnnELke",
        "colab_type": "code",
        "colab": {}
      },
      "source": [
        ""
      ],
      "execution_count": 0,
      "outputs": []
    },
    {
      "cell_type": "code",
      "metadata": {
        "colab_type": "code",
        "outputId": "0b4390b8-3005-4f98-aa72-ad3351403eec",
        "id": "C6MRsovXEMLC",
        "colab": {
          "base_uri": "https://localhost:8080/",
          "height": 324
        }
      },
      "source": [
        "#units vs time\n",
        "\n",
        "f, ax = plt.subplots(1)\n",
        "xs = [t['tid'] for t in trials.trials]\n",
        "ys = [t['misc']['vals']['dropout1'] for t in trials.trials]\n",
        "ax.set_xlim(xs[0]-10, xs[-1]+10)\n",
        "ax.scatter(xs, ys, s=20, linewidth=0.01, alpha=0.75)\n",
        "ax.set_title('$dropout$ $vs$ $time$ ', fontsize=18)\n",
        "ax.set_xlabel('$time$', fontsize=16)\n",
        "ax.set_ylabel('$dropout$', fontsize=16)"
      ],
      "execution_count": 22,
      "outputs": [
        {
          "output_type": "execute_result",
          "data": {
            "text/plain": [
              "Text(0, 0.5, '$dropout$')"
            ]
          },
          "metadata": {
            "tags": []
          },
          "execution_count": 22
        },
        {
          "output_type": "display_data",
          "data": {
            "image/png": "[encoded data removed]",
            "text/plain": [
              "<Figure size 432x288 with 1 Axes>"
            ]
          },
          "metadata": {
            "tags": []
          }
        }
      ]
    },
    {
      "cell_type": "code",
      "metadata": {
        "id": "JZvxEkA5HIZh",
        "colab_type": "code",
        "colab": {
          "base_uri": "https://localhost:8080/",
          "height": 324
        },
        "outputId": "66f4d20d-6f40-4f6c-ed04-ef91ee830e95"
      },
      "source": [
        "#dropout vs units\n",
        "\n",
        "f, ax = plt.subplots(1)\n",
        "xs = [t['misc']['vals']['units1'] for t in trials.trials]\n",
        "ys = [t['misc']['vals']['dropout1'] for t in trials.trials]\n",
        "#ax.set_xlim(xs[0]-10, xs[-1]+10)\n",
        "ax.scatter(xs, ys, s=20, linewidth=0.01, alpha=0.75)\n",
        "ax.set_title('$dropout$ $vs$ $units$ ', fontsize=18)\n",
        "ax.set_xlabel('$units$', fontsize=16)\n",
        "ax.set_ylabel('$dropout$', fontsize=16)"
      ],
      "execution_count": 31,
      "outputs": [
        {
          "output_type": "execute_result",
          "data": {
            "text/plain": [
              "Text(0, 0.5, '$dropout$')"
            ]
          },
          "metadata": {
            "tags": []
          },
          "execution_count": 31
        },
        {
          "output_type": "display_data",
          "data": {
            "image/png": "[encoded data removed]",
            "text/plain": [
              "<Figure size 432x288 with 1 Axes>"
            ]
          },
          "metadata": {
            "tags": []
          }
        }
      ]
    },
    {
      "cell_type": "code",
      "metadata": {
        "id": "BTcZlwEyEhFC",
        "colab_type": "code",
        "colab": {
          "base_uri": "https://localhost:8080/",
          "height": 324
        },
        "outputId": "deedeae7-e1b6-4b47-b234-24b3e0876230"
      },
      "source": [
        "#value vs units\n",
        "\n",
        "f, ax = plt.subplots(1)\n",
        "xs = [t['misc']['vals']['units1'] for t in trials.trials]\n",
        "ys = [-t['result']['loss'] for t in trials.trials]\n",
        "#ax.set_xlim(xs[0]-10, xs[-1]+10)\n",
        "ax.scatter(xs, ys, s=20, linewidth=0.01, alpha=0.75)\n",
        "ax.set_title('$accuracy$ $vs$ $units$ ', fontsize=18)\n",
        "ax.set_xlabel('$units$', fontsize=16)\n",
        "ax.set_ylabel('$accuracy$', fontsize=16)\n",
        "\n"
      ],
      "execution_count": 30,
      "outputs": [
        {
          "output_type": "execute_result",
          "data": {
            "text/plain": [
              "Text(0, 0.5, '$accuracy$')"
            ]
          },
          "metadata": {
            "tags": []
          },
          "execution_count": 30
        },
        {
          "output_type": "display_data",
          "data": {
            "image/png": "[encoded data removed]",
            "text/plain": [
              "<Figure size 432x288 with 1 Axes>"
            ]
          },
          "metadata": {
            "tags": []
          }
        }
      ]
    },
    {
      "cell_type": "code",
      "metadata": {
        "id": "qCk_zVkDGI7y",
        "colab_type": "code",
        "colab": {
          "base_uri": "https://localhost:8080/",
          "height": 327
        },
        "outputId": "8b8dde24-474a-445f-ee1f-5a0a3d7598a0"
      },
      "source": [
        "#value vs dropout\n",
        "\n",
        "f, ax = plt.subplots(1)\n",
        "xs = [t['misc']['vals']['dropout1'] for t in trials.trials]\n",
        "ys = [-t['result']['loss'] for t in trials.trials]\n",
        "#ax.set_xlim(xs[0]-10, xs[-1]+10)\n",
        "ax.scatter(xs, ys, s=20, linewidth=0.01, alpha=0.75)\n",
        "ax.set_title('$accuracy$ $vs$ $dropout$ ', fontsize=18)\n",
        "ax.set_xlabel('$dropout$', fontsize=16)\n",
        "ax.set_ylabel('$accuracy$', fontsize=16)\n",
        "\n"
      ],
      "execution_count": 29,
      "outputs": [
        {
          "output_type": "execute_result",
          "data": {
            "text/plain": [
              "Text(0, 0.5, '$accuracy$')"
            ]
          },
          "metadata": {
            "tags": []
          },
          "execution_count": 29
        },
        {
          "output_type": "display_data",
          "data": {
            "image/png": "[encoded data removed]",
            "text/plain": [
              "<Figure size 432x288 with 1 Axes>"
            ]
          },
          "metadata": {
            "tags": []
          }
        }
      ]
    }
  ]
}